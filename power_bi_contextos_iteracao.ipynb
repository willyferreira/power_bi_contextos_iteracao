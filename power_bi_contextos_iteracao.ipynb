{
 "cells": [
  {
   "cell_type": "markdown",
   "metadata": {},
   "source": [
    "#### Importação dos pacotes"
   ]
  },
  {
   "cell_type": "code",
   "execution_count": 33,
   "metadata": {},
   "outputs": [],
   "source": [
    "import pandas as pd"
   ]
  },
  {
   "cell_type": "markdown",
   "metadata": {},
   "source": [
    "#### Leitura dos dataframes"
   ]
  },
  {
   "cell_type": "code",
   "execution_count": 34,
   "metadata": {},
   "outputs": [],
   "source": [
    "df_livros = pd.read_csv(\n",
    "    filepath_or_buffer = 'Livros.csv'\n",
    ")"
   ]
  },
  {
   "cell_type": "code",
   "execution_count": 35,
   "metadata": {},
   "outputs": [
    {
     "data": {
      "text/html": [
       "<div>\n",
       "<style scoped>\n",
       "    .dataframe tbody tr th:only-of-type {\n",
       "        vertical-align: middle;\n",
       "    }\n",
       "\n",
       "    .dataframe tbody tr th {\n",
       "        vertical-align: top;\n",
       "    }\n",
       "\n",
       "    .dataframe thead th {\n",
       "        text-align: right;\n",
       "    }\n",
       "</style>\n",
       "<table border=\"1\" class=\"dataframe\">\n",
       "  <thead>\n",
       "    <tr style=\"text-align: right;\">\n",
       "      <th></th>\n",
       "      <th>ID</th>\n",
       "      <th>Título</th>\n",
       "      <th>Preço Unitário</th>\n",
       "      <th>Preço de custo</th>\n",
       "      <th>Estoque livre</th>\n",
       "      <th>Quantidade de vendas</th>\n",
       "    </tr>\n",
       "  </thead>\n",
       "  <tbody>\n",
       "    <tr>\n",
       "      <th>0</th>\n",
       "      <td>1</td>\n",
       "      <td>A Ilha do Destino</td>\n",
       "      <td>R$45,00</td>\n",
       "      <td>R$28,00</td>\n",
       "      <td>39</td>\n",
       "      <td>240</td>\n",
       "    </tr>\n",
       "    <tr>\n",
       "      <th>1</th>\n",
       "      <td>2</td>\n",
       "      <td>O Enigma da Escuridão</td>\n",
       "      <td>R$60,00</td>\n",
       "      <td>R$35,00</td>\n",
       "      <td>66</td>\n",
       "      <td>552</td>\n",
       "    </tr>\n",
       "    <tr>\n",
       "      <th>2</th>\n",
       "      <td>3</td>\n",
       "      <td>O Labirinto dos Segredos</td>\n",
       "      <td>R$55,00</td>\n",
       "      <td>R$32,00</td>\n",
       "      <td>58</td>\n",
       "      <td>192</td>\n",
       "    </tr>\n",
       "    <tr>\n",
       "      <th>3</th>\n",
       "      <td>4</td>\n",
       "      <td>A Magia Perdida</td>\n",
       "      <td>R$50,00</td>\n",
       "      <td>R$30,00</td>\n",
       "      <td>47</td>\n",
       "      <td>216</td>\n",
       "    </tr>\n",
       "    <tr>\n",
       "      <th>4</th>\n",
       "      <td>5</td>\n",
       "      <td>O Mistério da Noite Estrelada</td>\n",
       "      <td>R$40,00</td>\n",
       "      <td>R$25,00</td>\n",
       "      <td>36</td>\n",
       "      <td>216</td>\n",
       "    </tr>\n",
       "  </tbody>\n",
       "</table>\n",
       "</div>"
      ],
      "text/plain": [
       "   ID                         Título Preço Unitário Preço de custo  \\\n",
       "0   1              A Ilha do Destino        R$45,00        R$28,00   \n",
       "1   2          O Enigma da Escuridão        R$60,00        R$35,00   \n",
       "2   3       O Labirinto dos Segredos        R$55,00        R$32,00   \n",
       "3   4                A Magia Perdida        R$50,00        R$30,00   \n",
       "4   5  O Mistério da Noite Estrelada        R$40,00        R$25,00   \n",
       "\n",
       "   Estoque livre  Quantidade de vendas  \n",
       "0             39                   240  \n",
       "1             66                   552  \n",
       "2             58                   192  \n",
       "3             47                   216  \n",
       "4             36                   216  "
      ]
     },
     "execution_count": 35,
     "metadata": {},
     "output_type": "execute_result"
    }
   ],
   "source": [
    "df_livros.head()"
   ]
  },
  {
   "cell_type": "code",
   "execution_count": 36,
   "metadata": {},
   "outputs": [
    {
     "name": "stdout",
     "output_type": "stream",
     "text": [
      "<class 'pandas.core.frame.DataFrame'>\n",
      "RangeIndex: 100 entries, 0 to 99\n",
      "Data columns (total 6 columns):\n",
      " #   Column                Non-Null Count  Dtype \n",
      "---  ------                --------------  ----- \n",
      " 0   ID                    100 non-null    int64 \n",
      " 1   Título                100 non-null    object\n",
      " 2   Preço Unitário        100 non-null    object\n",
      " 3   Preço de custo        100 non-null    object\n",
      " 4   Estoque livre         100 non-null    int64 \n",
      " 5   Quantidade de vendas  100 non-null    int64 \n",
      "dtypes: int64(3), object(3)\n",
      "memory usage: 4.8+ KB\n"
     ]
    }
   ],
   "source": [
    "df_livros.info()"
   ]
  },
  {
   "cell_type": "code",
   "execution_count": 37,
   "metadata": {},
   "outputs": [],
   "source": [
    "df_vendas = pd.read_csv(\n",
    "    filepath_or_buffer = 'registro_vendas.csv'\n",
    ")"
   ]
  },
  {
   "cell_type": "code",
   "execution_count": 38,
   "metadata": {},
   "outputs": [
    {
     "data": {
      "text/html": [
       "<div>\n",
       "<style scoped>\n",
       "    .dataframe tbody tr th:only-of-type {\n",
       "        vertical-align: middle;\n",
       "    }\n",
       "\n",
       "    .dataframe tbody tr th {\n",
       "        vertical-align: top;\n",
       "    }\n",
       "\n",
       "    .dataframe thead th {\n",
       "        text-align: right;\n",
       "    }\n",
       "</style>\n",
       "<table border=\"1\" class=\"dataframe\">\n",
       "  <thead>\n",
       "    <tr style=\"text-align: right;\">\n",
       "      <th></th>\n",
       "      <th>ID_Fatura</th>\n",
       "      <th>ID_Produto</th>\n",
       "      <th>Data_Compra</th>\n",
       "      <th>Data_Entrega</th>\n",
       "      <th>Metodo_Pagamento</th>\n",
       "      <th>Endereco_Entrega</th>\n",
       "      <th>Cidade_Entrega</th>\n",
       "      <th>Codigo_Postal_Entrega</th>\n",
       "    </tr>\n",
       "  </thead>\n",
       "  <tbody>\n",
       "    <tr>\n",
       "      <th>0</th>\n",
       "      <td>1</td>\n",
       "      <td>70</td>\n",
       "      <td>2023-02-17 20:52:20.648330</td>\n",
       "      <td>2023-02-19 20:52:20.648330</td>\n",
       "      <td>Cartão de crédito</td>\n",
       "      <td>Rua Principal, 176</td>\n",
       "      <td>São Paulo</td>\n",
       "      <td>61648</td>\n",
       "    </tr>\n",
       "    <tr>\n",
       "      <th>1</th>\n",
       "      <td>2</td>\n",
       "      <td>59</td>\n",
       "      <td>2023-03-02 20:52:20.648376</td>\n",
       "      <td>2023-03-10 20:52:20.648376</td>\n",
       "      <td>PayPal</td>\n",
       "      <td>Rua Principal, 748</td>\n",
       "      <td>Belo Horizonte</td>\n",
       "      <td>37673</td>\n",
       "    </tr>\n",
       "    <tr>\n",
       "      <th>2</th>\n",
       "      <td>3</td>\n",
       "      <td>2</td>\n",
       "      <td>2022-11-09 20:52:20.648394</td>\n",
       "      <td>2022-11-12 20:52:20.648394</td>\n",
       "      <td>Dinheiro</td>\n",
       "      <td>Rua Principal, 146</td>\n",
       "      <td>São Paulo</td>\n",
       "      <td>23099</td>\n",
       "    </tr>\n",
       "    <tr>\n",
       "      <th>3</th>\n",
       "      <td>4</td>\n",
       "      <td>25</td>\n",
       "      <td>2022-08-25 20:52:20.648410</td>\n",
       "      <td>2022-09-01 20:52:20.648410</td>\n",
       "      <td>PayPal</td>\n",
       "      <td>Rua Principal, 38</td>\n",
       "      <td>Rio de Janeiro</td>\n",
       "      <td>47826</td>\n",
       "    </tr>\n",
       "    <tr>\n",
       "      <th>4</th>\n",
       "      <td>5</td>\n",
       "      <td>85</td>\n",
       "      <td>2022-09-21 20:52:20.648426</td>\n",
       "      <td>2022-09-24 20:52:20.648426</td>\n",
       "      <td>Dinheiro</td>\n",
       "      <td>Rua Principal, 259</td>\n",
       "      <td>Belo Horizonte</td>\n",
       "      <td>65768</td>\n",
       "    </tr>\n",
       "  </tbody>\n",
       "</table>\n",
       "</div>"
      ],
      "text/plain": [
       "   ID_Fatura  ID_Produto                 Data_Compra  \\\n",
       "0          1          70  2023-02-17 20:52:20.648330   \n",
       "1          2          59  2023-03-02 20:52:20.648376   \n",
       "2          3           2  2022-11-09 20:52:20.648394   \n",
       "3          4          25  2022-08-25 20:52:20.648410   \n",
       "4          5          85  2022-09-21 20:52:20.648426   \n",
       "\n",
       "                 Data_Entrega   Metodo_Pagamento    Endereco_Entrega  \\\n",
       "0  2023-02-19 20:52:20.648330  Cartão de crédito  Rua Principal, 176   \n",
       "1  2023-03-10 20:52:20.648376             PayPal  Rua Principal, 748   \n",
       "2  2022-11-12 20:52:20.648394           Dinheiro  Rua Principal, 146   \n",
       "3  2022-09-01 20:52:20.648410             PayPal   Rua Principal, 38   \n",
       "4  2022-09-24 20:52:20.648426           Dinheiro  Rua Principal, 259   \n",
       "\n",
       "   Cidade_Entrega  Codigo_Postal_Entrega  \n",
       "0       São Paulo                  61648  \n",
       "1  Belo Horizonte                  37673  \n",
       "2       São Paulo                  23099  \n",
       "3  Rio de Janeiro                  47826  \n",
       "4  Belo Horizonte                  65768  "
      ]
     },
     "execution_count": 38,
     "metadata": {},
     "output_type": "execute_result"
    }
   ],
   "source": [
    "df_vendas.head()"
   ]
  },
  {
   "cell_type": "code",
   "execution_count": 39,
   "metadata": {},
   "outputs": [
    {
     "name": "stdout",
     "output_type": "stream",
     "text": [
      "<class 'pandas.core.frame.DataFrame'>\n",
      "RangeIndex: 1000 entries, 0 to 999\n",
      "Data columns (total 8 columns):\n",
      " #   Column                 Non-Null Count  Dtype \n",
      "---  ------                 --------------  ----- \n",
      " 0   ID_Fatura              1000 non-null   int64 \n",
      " 1   ID_Produto             1000 non-null   int64 \n",
      " 2   Data_Compra            1000 non-null   object\n",
      " 3   Data_Entrega           1000 non-null   object\n",
      " 4   Metodo_Pagamento       1000 non-null   object\n",
      " 5   Endereco_Entrega       1000 non-null   object\n",
      " 6   Cidade_Entrega         1000 non-null   object\n",
      " 7   Codigo_Postal_Entrega  1000 non-null   int64 \n",
      "dtypes: int64(3), object(5)\n",
      "memory usage: 62.6+ KB\n"
     ]
    }
   ],
   "source": [
    "df_vendas.info()"
   ]
  },
  {
   "cell_type": "markdown",
   "metadata": {},
   "source": [
    "#### Tratamento dos dados"
   ]
  },
  {
   "cell_type": "markdown",
   "metadata": {},
   "source": [
    "##### Livros"
   ]
  },
  {
   "cell_type": "code",
   "execution_count": 40,
   "metadata": {},
   "outputs": [
    {
     "name": "stdout",
     "output_type": "stream",
     "text": [
      "<class 'pandas.core.frame.DataFrame'>\n",
      "RangeIndex: 100 entries, 0 to 99\n",
      "Data columns (total 6 columns):\n",
      " #   Column                Non-Null Count  Dtype \n",
      "---  ------                --------------  ----- \n",
      " 0   ID                    100 non-null    int64 \n",
      " 1   Título                100 non-null    object\n",
      " 2   Preço Unitário        100 non-null    object\n",
      " 3   Preço de custo        100 non-null    object\n",
      " 4   Estoque livre         100 non-null    int64 \n",
      " 5   Quantidade de vendas  100 non-null    int64 \n",
      "dtypes: int64(3), object(3)\n",
      "memory usage: 4.8+ KB\n"
     ]
    }
   ],
   "source": [
    "df_livros.info()"
   ]
  },
  {
   "cell_type": "code",
   "execution_count": 44,
   "metadata": {},
   "outputs": [],
   "source": [
    "# Retirando o R$ da variável \n",
    "df_livros['Preço Unitário'] = df_livros['Preço Unitário'].str.replace('R$', '')"
   ]
  },
  {
   "cell_type": "code",
   "execution_count": 45,
   "metadata": {},
   "outputs": [
    {
     "data": {
      "text/plain": [
       "0     45,00\n",
       "1     60,00\n",
       "2     55,00\n",
       "3     50,00\n",
       "4     40,00\n",
       "      ...  \n",
       "95    60,00\n",
       "96    45,00\n",
       "97    55,00\n",
       "98    70,00\n",
       "99    45,00\n",
       "Name: Preço Unitário, Length: 100, dtype: object"
      ]
     },
     "execution_count": 45,
     "metadata": {},
     "output_type": "execute_result"
    }
   ],
   "source": [
    "df_livros['Preço Unitário']"
   ]
  },
  {
   "cell_type": "code",
   "execution_count": 47,
   "metadata": {},
   "outputs": [],
   "source": [
    "#Substituindo a vírgula por ponto\n",
    "df_livros['Preço Unitário'] = df_livros['Preço Unitário'].str.replace(',', '.')"
   ]
  },
  {
   "cell_type": "code",
   "execution_count": 48,
   "metadata": {},
   "outputs": [
    {
     "data": {
      "text/plain": [
       "0     45.00\n",
       "1     60.00\n",
       "2     55.00\n",
       "3     50.00\n",
       "4     40.00\n",
       "      ...  \n",
       "95    60.00\n",
       "96    45.00\n",
       "97    55.00\n",
       "98    70.00\n",
       "99    45.00\n",
       "Name: Preço Unitário, Length: 100, dtype: object"
      ]
     },
     "execution_count": 48,
     "metadata": {},
     "output_type": "execute_result"
    }
   ],
   "source": [
    "df_livros['Preço Unitário']"
   ]
  },
  {
   "cell_type": "code",
   "execution_count": 54,
   "metadata": {},
   "outputs": [],
   "source": [
    "#Alterando o formato da variável para float\n",
    "df_livros['Preço Unitário'] = df_livros['Preço Unitário'].astype(float)"
   ]
  },
  {
   "cell_type": "code",
   "execution_count": 55,
   "metadata": {},
   "outputs": [
    {
     "data": {
      "text/plain": [
       "0     45.0\n",
       "1     60.0\n",
       "2     55.0\n",
       "3     50.0\n",
       "4     40.0\n",
       "      ... \n",
       "95    60.0\n",
       "96    45.0\n",
       "97    55.0\n",
       "98    70.0\n",
       "99    45.0\n",
       "Name: Preço Unitário, Length: 100, dtype: float64"
      ]
     },
     "execution_count": 55,
     "metadata": {},
     "output_type": "execute_result"
    }
   ],
   "source": [
    "df_livros['Preço Unitário']"
   ]
  },
  {
   "cell_type": "code",
   "execution_count": 50,
   "metadata": {},
   "outputs": [],
   "source": [
    "#Fazendo o mesmo tratamento para a variável preço de custo\n",
    "df_livros['Preço de custo'] = df_livros['Preço de custo'].str.replace('R$', '')"
   ]
  },
  {
   "cell_type": "code",
   "execution_count": 51,
   "metadata": {},
   "outputs": [],
   "source": [
    "df_livros['Preço de custo'] = df_livros['Preço de custo'].str.replace(',', '.')"
   ]
  },
  {
   "cell_type": "code",
   "execution_count": 56,
   "metadata": {},
   "outputs": [],
   "source": [
    "#Alterando o formato da variável para float\n",
    "df_livros['Preço de custo'] = df_livros['Preço de custo'].astype(float)"
   ]
  },
  {
   "cell_type": "code",
   "execution_count": 57,
   "metadata": {},
   "outputs": [
    {
     "data": {
      "text/plain": [
       "0     28.0\n",
       "1     35.0\n",
       "2     32.0\n",
       "3     30.0\n",
       "4     25.0\n",
       "      ... \n",
       "95    35.0\n",
       "96    28.0\n",
       "97    32.0\n",
       "98    40.0\n",
       "99    28.0\n",
       "Name: Preço de custo, Length: 100, dtype: float64"
      ]
     },
     "execution_count": 57,
     "metadata": {},
     "output_type": "execute_result"
    }
   ],
   "source": [
    "df_livros['Preço de custo']"
   ]
  },
  {
   "cell_type": "code",
   "execution_count": 58,
   "metadata": {},
   "outputs": [
    {
     "name": "stdout",
     "output_type": "stream",
     "text": [
      "<class 'pandas.core.frame.DataFrame'>\n",
      "RangeIndex: 100 entries, 0 to 99\n",
      "Data columns (total 6 columns):\n",
      " #   Column                Non-Null Count  Dtype  \n",
      "---  ------                --------------  -----  \n",
      " 0   ID                    100 non-null    int64  \n",
      " 1   Título                100 non-null    object \n",
      " 2   Preço Unitário        100 non-null    float64\n",
      " 3   Preço de custo        100 non-null    float64\n",
      " 4   Estoque livre         100 non-null    int64  \n",
      " 5   Quantidade de vendas  100 non-null    int64  \n",
      "dtypes: float64(2), int64(3), object(1)\n",
      "memory usage: 4.8+ KB\n"
     ]
    }
   ],
   "source": [
    "df_livros.info()"
   ]
  }
 ],
 "metadata": {
  "kernelspec": {
   "display_name": "Python 3",
   "language": "python",
   "name": "python3"
  },
  "language_info": {
   "codemirror_mode": {
    "name": "ipython",
    "version": 3
   },
   "file_extension": ".py",
   "mimetype": "text/x-python",
   "name": "python",
   "nbconvert_exporter": "python",
   "pygments_lexer": "ipython3",
   "version": "3.11.5"
  },
  "orig_nbformat": 4
 },
 "nbformat": 4,
 "nbformat_minor": 2
}
